{
  "nbformat": 4,
  "nbformat_minor": 0,
  "metadata": {
    "colab": {
      "provenance": []
    },
    "kernelspec": {
      "name": "python3",
      "display_name": "Python 3"
    },
    "language_info": {
      "name": "python"
    }
  },
  "cells": [
    {
      "cell_type": "markdown",
      "source": [
        "Data extraction from github repository codes\n"
      ],
      "metadata": {
        "id": "s1I0SseiuHJP"
      }
    },
    {
      "cell_type": "code",
      "source": [
        "pip install git-clone"
      ],
      "metadata": {
        "colab": {
          "base_uri": "https://localhost:8080/",
          "height": 0
        },
        "id": "jQ6hfFrkuYAn",
        "outputId": "ed300bb2-a7f2-4dc9-889f-fcf8029af9e0"
      },
      "execution_count": 1,
      "outputs": [
        {
          "output_type": "stream",
          "name": "stdout",
          "text": [
            "Looking in indexes: https://pypi.org/simple, https://us-python.pkg.dev/colab-wheels/public/simple/\n",
            "Collecting git-clone\n",
            "  Downloading git_clone-1.0.6-py2.py3-none-any.whl (3.0 kB)\n",
            "Installing collected packages: git-clone\n",
            "Successfully installed git-clone-1.0.6\n"
          ]
        }
      ]
    },
    {
      "cell_type": "code",
      "source": [
        "import json\n",
        "import os\n",
        "import pandas as pd\n",
        "!git clone https://github.com/PhonePe/pulse.git"
      ],
      "metadata": {
        "colab": {
          "base_uri": "https://localhost:8080/",
          "height": 0
        },
        "id": "oE6s0bbzuZuj",
        "outputId": "b74852d7-b46b-4ec1-b800-02b41b83bf1e"
      },
      "execution_count": 2,
      "outputs": [
        {
          "output_type": "stream",
          "name": "stdout",
          "text": [
            "Cloning into 'pulse'...\n",
            "remote: Enumerating objects: 7975, done.\u001b[K\n",
            "remote: Counting objects: 100% (7975/7975), done.\u001b[K\n",
            "remote: Compressing objects: 100% (6637/6637), done.\u001b[K\n",
            "remote: Total 7975 (delta 2465), reused 6527 (delta 1031), pack-reused 0\u001b[K\n",
            "Receiving objects: 100% (7975/7975), 2.11 MiB | 11.61 MiB/s, done.\n",
            "Resolving deltas: 100% (2465/2465), done.\n"
          ]
        }
      ]
    },
    {
      "cell_type": "markdown",
      "source": [
        "Transaction data broken down by type of payment at country level.\n"
      ],
      "metadata": {
        "id": "PiclTr42uuu0"
      }
    },
    {
      "cell_type": "code",
      "source": [
        "path=\"/content/pulse/data/aggregated/transaction/country/india/state/\"#intializing the path\n",
        "state=os.listdir(path)\n",
        "clm=dict(State=[],Year=[],Quater=[],Transacion_type=[], Transacion_count=[], Transacion_amount=[])#creating a dictionary\n",
        "for i in state:#looping through state\n",
        "    p=path+i+\"/\"\n",
        "    p_yr=os.listdir(p)\n",
        "    for j in p_yr:#looping inside a state to get the year\n",
        "        p_t=p+j+'/'\n",
        "        pa=os.listdir(p_t)\n",
        "        for k in pa:#looping inside the year to get all the json files\n",
        "            yt=p_t+k\n",
        "            data=open(yt,'r')\n",
        "            D=json.load(data)#loading the json files into a variable\n",
        "            for z in D['data']['transactionData']:#looping through the variable so as to extract the data\n",
        "                Name=z['name']\n",
        "                count=z['paymentInstruments'][0]['count']\n",
        "                amount=z['paymentInstruments'][0]['amount']\n",
        "                clm['Transacion_type'].append(Name)\n",
        "                clm['Transacion_count'].append(count)\n",
        "                clm['Transacion_amount'].append(amount)\n",
        "                clm['State'].append(i)\n",
        "                clm['Year'].append(j)\n",
        "                clm['Quater'].append(int(k.strip('.json')))\n",
        "rt=pd.DataFrame(clm)\n",
        "rt"
      ],
      "metadata": {
        "colab": {
          "base_uri": "https://localhost:8080/",
          "height": 423
        },
        "id": "Ug7XO3ZFvIRU",
        "outputId": "8ca7aeb0-12fa-43fc-ae01-bfcfa0e27a1f"
      },
      "execution_count": 3,
      "outputs": [
        {
          "output_type": "execute_result",
          "data": {
            "text/plain": [
              "              State  Year  Quater           Transacion_type  Transacion_count  \\\n",
              "0            punjab  2021       2     Peer-to-peer payments          13180933   \n",
              "1            punjab  2021       2         Merchant payments          11225598   \n",
              "2            punjab  2021       2  Recharge & bill payments           7591039   \n",
              "3            punjab  2021       2        Financial Services             46218   \n",
              "4            punjab  2021       2                    Others            127460   \n",
              "...             ...   ...     ...                       ...               ...   \n",
              "3589  uttar-pradesh  2022       1         Merchant payments         221556930   \n",
              "3590  uttar-pradesh  2022       1     Peer-to-peer payments         195592648   \n",
              "3591  uttar-pradesh  2022       1  Recharge & bill payments          54873261   \n",
              "3592  uttar-pradesh  2022       1        Financial Services            358499   \n",
              "3593  uttar-pradesh  2022       1                    Others           1571908   \n",
              "\n",
              "      Transacion_amount  \n",
              "0          5.528249e+10  \n",
              "1          9.710508e+09  \n",
              "2          4.370757e+09  \n",
              "3          5.330905e+07  \n",
              "4          1.139980e+08  \n",
              "...                 ...  \n",
              "3589       1.655439e+11  \n",
              "3590       6.847589e+11  \n",
              "3591       3.168381e+10  \n",
              "3592       3.862182e+08  \n",
              "3593       7.503274e+08  \n",
              "\n",
              "[3594 rows x 6 columns]"
            ],
            "text/html": [
              "\n",
              "  <div id=\"df-f0457cc6-0d9e-4f50-8d4b-c4d119313ca3\">\n",
              "    <div class=\"colab-df-container\">\n",
              "      <div>\n",
              "<style scoped>\n",
              "    .dataframe tbody tr th:only-of-type {\n",
              "        vertical-align: middle;\n",
              "    }\n",
              "\n",
              "    .dataframe tbody tr th {\n",
              "        vertical-align: top;\n",
              "    }\n",
              "\n",
              "    .dataframe thead th {\n",
              "        text-align: right;\n",
              "    }\n",
              "</style>\n",
              "<table border=\"1\" class=\"dataframe\">\n",
              "  <thead>\n",
              "    <tr style=\"text-align: right;\">\n",
              "      <th></th>\n",
              "      <th>State</th>\n",
              "      <th>Year</th>\n",
              "      <th>Quater</th>\n",
              "      <th>Transacion_type</th>\n",
              "      <th>Transacion_count</th>\n",
              "      <th>Transacion_amount</th>\n",
              "    </tr>\n",
              "  </thead>\n",
              "  <tbody>\n",
              "    <tr>\n",
              "      <th>0</th>\n",
              "      <td>punjab</td>\n",
              "      <td>2021</td>\n",
              "      <td>2</td>\n",
              "      <td>Peer-to-peer payments</td>\n",
              "      <td>13180933</td>\n",
              "      <td>5.528249e+10</td>\n",
              "    </tr>\n",
              "    <tr>\n",
              "      <th>1</th>\n",
              "      <td>punjab</td>\n",
              "      <td>2021</td>\n",
              "      <td>2</td>\n",
              "      <td>Merchant payments</td>\n",
              "      <td>11225598</td>\n",
              "      <td>9.710508e+09</td>\n",
              "    </tr>\n",
              "    <tr>\n",
              "      <th>2</th>\n",
              "      <td>punjab</td>\n",
              "      <td>2021</td>\n",
              "      <td>2</td>\n",
              "      <td>Recharge &amp; bill payments</td>\n",
              "      <td>7591039</td>\n",
              "      <td>4.370757e+09</td>\n",
              "    </tr>\n",
              "    <tr>\n",
              "      <th>3</th>\n",
              "      <td>punjab</td>\n",
              "      <td>2021</td>\n",
              "      <td>2</td>\n",
              "      <td>Financial Services</td>\n",
              "      <td>46218</td>\n",
              "      <td>5.330905e+07</td>\n",
              "    </tr>\n",
              "    <tr>\n",
              "      <th>4</th>\n",
              "      <td>punjab</td>\n",
              "      <td>2021</td>\n",
              "      <td>2</td>\n",
              "      <td>Others</td>\n",
              "      <td>127460</td>\n",
              "      <td>1.139980e+08</td>\n",
              "    </tr>\n",
              "    <tr>\n",
              "      <th>...</th>\n",
              "      <td>...</td>\n",
              "      <td>...</td>\n",
              "      <td>...</td>\n",
              "      <td>...</td>\n",
              "      <td>...</td>\n",
              "      <td>...</td>\n",
              "    </tr>\n",
              "    <tr>\n",
              "      <th>3589</th>\n",
              "      <td>uttar-pradesh</td>\n",
              "      <td>2022</td>\n",
              "      <td>1</td>\n",
              "      <td>Merchant payments</td>\n",
              "      <td>221556930</td>\n",
              "      <td>1.655439e+11</td>\n",
              "    </tr>\n",
              "    <tr>\n",
              "      <th>3590</th>\n",
              "      <td>uttar-pradesh</td>\n",
              "      <td>2022</td>\n",
              "      <td>1</td>\n",
              "      <td>Peer-to-peer payments</td>\n",
              "      <td>195592648</td>\n",
              "      <td>6.847589e+11</td>\n",
              "    </tr>\n",
              "    <tr>\n",
              "      <th>3591</th>\n",
              "      <td>uttar-pradesh</td>\n",
              "      <td>2022</td>\n",
              "      <td>1</td>\n",
              "      <td>Recharge &amp; bill payments</td>\n",
              "      <td>54873261</td>\n",
              "      <td>3.168381e+10</td>\n",
              "    </tr>\n",
              "    <tr>\n",
              "      <th>3592</th>\n",
              "      <td>uttar-pradesh</td>\n",
              "      <td>2022</td>\n",
              "      <td>1</td>\n",
              "      <td>Financial Services</td>\n",
              "      <td>358499</td>\n",
              "      <td>3.862182e+08</td>\n",
              "    </tr>\n",
              "    <tr>\n",
              "      <th>3593</th>\n",
              "      <td>uttar-pradesh</td>\n",
              "      <td>2022</td>\n",
              "      <td>1</td>\n",
              "      <td>Others</td>\n",
              "      <td>1571908</td>\n",
              "      <td>7.503274e+08</td>\n",
              "    </tr>\n",
              "  </tbody>\n",
              "</table>\n",
              "<p>3594 rows × 6 columns</p>\n",
              "</div>\n",
              "      <button class=\"colab-df-convert\" onclick=\"convertToInteractive('df-f0457cc6-0d9e-4f50-8d4b-c4d119313ca3')\"\n",
              "              title=\"Convert this dataframe to an interactive table.\"\n",
              "              style=\"display:none;\">\n",
              "        \n",
              "  <svg xmlns=\"http://www.w3.org/2000/svg\" height=\"24px\"viewBox=\"0 0 24 24\"\n",
              "       width=\"24px\">\n",
              "    <path d=\"M0 0h24v24H0V0z\" fill=\"none\"/>\n",
              "    <path d=\"M18.56 5.44l.94 2.06.94-2.06 2.06-.94-2.06-.94-.94-2.06-.94 2.06-2.06.94zm-11 1L8.5 8.5l.94-2.06 2.06-.94-2.06-.94L8.5 2.5l-.94 2.06-2.06.94zm10 10l.94 2.06.94-2.06 2.06-.94-2.06-.94-.94-2.06-.94 2.06-2.06.94z\"/><path d=\"M17.41 7.96l-1.37-1.37c-.4-.4-.92-.59-1.43-.59-.52 0-1.04.2-1.43.59L10.3 9.45l-7.72 7.72c-.78.78-.78 2.05 0 2.83L4 21.41c.39.39.9.59 1.41.59.51 0 1.02-.2 1.41-.59l7.78-7.78 2.81-2.81c.8-.78.8-2.07 0-2.86zM5.41 20L4 18.59l7.72-7.72 1.47 1.35L5.41 20z\"/>\n",
              "  </svg>\n",
              "      </button>\n",
              "      \n",
              "  <style>\n",
              "    .colab-df-container {\n",
              "      display:flex;\n",
              "      flex-wrap:wrap;\n",
              "      gap: 12px;\n",
              "    }\n",
              "\n",
              "    .colab-df-convert {\n",
              "      background-color: #E8F0FE;\n",
              "      border: none;\n",
              "      border-radius: 50%;\n",
              "      cursor: pointer;\n",
              "      display: none;\n",
              "      fill: #1967D2;\n",
              "      height: 32px;\n",
              "      padding: 0 0 0 0;\n",
              "      width: 32px;\n",
              "    }\n",
              "\n",
              "    .colab-df-convert:hover {\n",
              "      background-color: #E2EBFA;\n",
              "      box-shadow: 0px 1px 2px rgba(60, 64, 67, 0.3), 0px 1px 3px 1px rgba(60, 64, 67, 0.15);\n",
              "      fill: #174EA6;\n",
              "    }\n",
              "\n",
              "    [theme=dark] .colab-df-convert {\n",
              "      background-color: #3B4455;\n",
              "      fill: #D2E3FC;\n",
              "    }\n",
              "\n",
              "    [theme=dark] .colab-df-convert:hover {\n",
              "      background-color: #434B5C;\n",
              "      box-shadow: 0px 1px 3px 1px rgba(0, 0, 0, 0.15);\n",
              "      filter: drop-shadow(0px 1px 2px rgba(0, 0, 0, 0.3));\n",
              "      fill: #FFFFFF;\n",
              "    }\n",
              "  </style>\n",
              "\n",
              "      <script>\n",
              "        const buttonEl =\n",
              "          document.querySelector('#df-f0457cc6-0d9e-4f50-8d4b-c4d119313ca3 button.colab-df-convert');\n",
              "        buttonEl.style.display =\n",
              "          google.colab.kernel.accessAllowed ? 'block' : 'none';\n",
              "\n",
              "        async function convertToInteractive(key) {\n",
              "          const element = document.querySelector('#df-f0457cc6-0d9e-4f50-8d4b-c4d119313ca3');\n",
              "          const dataTable =\n",
              "            await google.colab.kernel.invokeFunction('convertToInteractive',\n",
              "                                                     [key], {});\n",
              "          if (!dataTable) return;\n",
              "\n",
              "          const docLinkHtml = 'Like what you see? Visit the ' +\n",
              "            '<a target=\"_blank\" href=https://colab.research.google.com/notebooks/data_table.ipynb>data table notebook</a>'\n",
              "            + ' to learn more about interactive tables.';\n",
              "          element.innerHTML = '';\n",
              "          dataTable['output_type'] = 'display_data';\n",
              "          await google.colab.output.renderOutput(dataTable, element);\n",
              "          const docLink = document.createElement('div');\n",
              "          docLink.innerHTML = docLinkHtml;\n",
              "          element.appendChild(docLink);\n",
              "        }\n",
              "      </script>\n",
              "    </div>\n",
              "  </div>\n",
              "  "
            ]
          },
          "metadata": {},
          "execution_count": 3
        }
      ]
    },
    {
      "cell_type": "code",
      "source": [
        "rt.isnull().sum()#checking for nulls in the data"
      ],
      "metadata": {
        "colab": {
          "base_uri": "https://localhost:8080/",
          "height": 0
        },
        "id": "UN9U6tgAv6Eu",
        "outputId": "a06ebbbe-b8db-4d91-e123-b198819193c8"
      },
      "execution_count": 5,
      "outputs": [
        {
          "output_type": "execute_result",
          "data": {
            "text/plain": [
              "State                0\n",
              "Year                 0\n",
              "Quater               0\n",
              "Transacion_type      0\n",
              "Transacion_count     0\n",
              "Transacion_amount    0\n",
              "dtype: int64"
            ]
          },
          "metadata": {},
          "execution_count": 5
        }
      ]
    },
    {
      "cell_type": "code",
      "source": [
        "rt=rt.drop_duplicates()#checking for duplicates in the data there are no duplicates in the data\n",
        "rt.shape"
      ],
      "metadata": {
        "colab": {
          "base_uri": "https://localhost:8080/",
          "height": 0
        },
        "id": "YOA284cuv9O3",
        "outputId": "691791ec-546d-41bd-aa76-56dbe716a818"
      },
      "execution_count": 6,
      "outputs": [
        {
          "output_type": "execute_result",
          "data": {
            "text/plain": [
              "(3594, 6)"
            ]
          },
          "metadata": {},
          "execution_count": 6
        }
      ]
    },
    {
      "cell_type": "code",
      "source": [
        "rt.dtypes#checking the data types if it is in proper format or not"
      ],
      "metadata": {
        "colab": {
          "base_uri": "https://localhost:8080/",
          "height": 0
        },
        "id": "gECF4l27woYO",
        "outputId": "d3ebf12b-4554-42d6-ce50-ce8ec5a65beb"
      },
      "execution_count": 7,
      "outputs": [
        {
          "output_type": "execute_result",
          "data": {
            "text/plain": [
              "State                 object\n",
              "Year                  object\n",
              "Quater                 int64\n",
              "Transacion_type       object\n",
              "Transacion_count       int64\n",
              "Transacion_amount    float64\n",
              "dtype: object"
            ]
          },
          "metadata": {},
          "execution_count": 7
        }
      ]
    },
    {
      "cell_type": "code",
      "source": [
        "rt['Year']=rt['Year'].astype(int)#converting it to int"
      ],
      "metadata": {
        "id": "-AgSlhUxxJIe"
      },
      "execution_count": 9,
      "outputs": []
    },
    {
      "cell_type": "code",
      "source": [
        "rt.dtypes"
      ],
      "metadata": {
        "colab": {
          "base_uri": "https://localhost:8080/",
          "height": 0
        },
        "id": "ijOdlfsyyUi2",
        "outputId": "a7acf539-fd2f-4d05-a9e3-8cdc18602dcf"
      },
      "execution_count": 10,
      "outputs": [
        {
          "output_type": "execute_result",
          "data": {
            "text/plain": [
              "State                 object\n",
              "Year                   int64\n",
              "Quater                 int64\n",
              "Transacion_type       object\n",
              "Transacion_count       int64\n",
              "Transacion_amount    float64\n",
              "dtype: object"
            ]
          },
          "metadata": {},
          "execution_count": 10
        }
      ]
    },
    {
      "cell_type": "code",
      "source": [
        "rt.to_csv('agg_trans.csv', index=False)#extracting the data"
      ],
      "metadata": {
        "id": "q1WGPxToyZPN"
      },
      "execution_count": 11,
      "outputs": []
    },
    {
      "cell_type": "markdown",
      "source": [
        "2)Users data broken down by devices at country level.\n"
      ],
      "metadata": {
        "id": "kMbX6anOzZva"
      }
    },
    {
      "cell_type": "code",
      "source": [
        "path=\"/content/pulse/data/aggregated/user/country/india/state/\"\n",
        "state=os.listdir(path)\n",
        "clm=dict(State=[],Year=[],Quater=[],Percentage_of_users=[], Users_count=[], Brand_Name=[])\n",
        "for i in state:\n",
        "    p=path+i+\"/\"\n",
        "    p_yr=os.listdir(p)\n",
        "    for j in p_yr:\n",
        "        p_t=p+j+'/'\n",
        "        pa=os.listdir(p_t)\n",
        "        for k in pa:\n",
        "            yt=p_t+k\n",
        "            data=open(yt,'r')\n",
        "            X=json.load(data)\n",
        "            try:\n",
        "              for z in X['data']['usersByDevice']:\n",
        "                  brand=z['brand']\n",
        "                  count=z['count']\n",
        "                  percentage=z['percentage']\n",
        "                  clm['Brand_Name'].append(brand)\n",
        "                  clm['Users_count'].append(count)\n",
        "                  clm['Percentage_of_users'].append(percentage)\n",
        "                  clm['State'].append(i)\n",
        "                  clm['Year'].append(j)\n",
        "                  clm['Quater'].append(int(k.strip('.json')))\n",
        "            except Exception:\n",
        "              pass\n",
        "rg=pd.DataFrame(clm)\n",
        "rg.isnull().sum()#no null values\n",
        "rg.shape\n",
        "rg=rg.drop_duplicates()#no duplicates\n",
        "rg.shape\n",
        "rg.dtypes\n",
        "rg['Year']=rg['Year'].astype(int)\n"
      ],
      "metadata": {
        "id": "JDka4_HvzTJP"
      },
      "execution_count": 19,
      "outputs": []
    },
    {
      "cell_type": "code",
      "source": [
        "rg.to_csv('agg_user.csv', index=False)"
      ],
      "metadata": {
        "id": "4zd-k1tLzvUk"
      },
      "execution_count": 20,
      "outputs": []
    },
    {
      "cell_type": "markdown",
      "source": [
        "3)Total number of transactions and total value of all transactions at the state level.\n",
        "\n"
      ],
      "metadata": {
        "id": "xO2fz0vK0377"
      }
    },
    {
      "cell_type": "code",
      "source": [
        "path=\"/content/pulse/data/map/transaction/hover/country/india/state/\"\n",
        "state=os.listdir(path)\n",
        "clm=dict(State=[],Year=[],Quater=[],Transaction_amount=[], Transaction_count=[], Dist_Name=[])\n",
        "for i in state:\n",
        "    p=path+i+\"/\"\n",
        "    p_yr=os.listdir(p)\n",
        "    for j in p_yr:\n",
        "        p_t=p+j+'/'\n",
        "        pa=os.listdir(p_t)\n",
        "        for k in pa:\n",
        "            yt=p_t+k\n",
        "            data=open(yt,'r')\n",
        "            X=json.load(data)\n",
        "#try:\n",
        "            for z in X['data']['hoverDataList']:\n",
        "                  name=z['name']\n",
        "                  count=z['metric'][0]['count']\n",
        "                  amount=z['metric'][0]['amount']\n",
        "                  clm['Dist_Name'].append(name)\n",
        "                  clm['Transaction_count'].append(count)\n",
        "                  clm['Transaction_amount'].append(amount)\n",
        "                  clm['State'].append(i)\n",
        "                  clm['Year'].append(j)\n",
        "                  clm['Quater'].append(int(k.strip('.json')))\n",
        "#        except Exception:\n",
        "#            pass\n",
        "rf=pd.DataFrame(clm)\n",
        "rf.isnull().sum()#no null values\n",
        "rf.shape\n",
        "rf=rf.drop_duplicates()#no duplicates\n",
        "rf.shape\n",
        "rf.dtypes\n",
        "rf['Year']=rf['Year'].astype(int)\n"
      ],
      "metadata": {
        "id": "XsWpIoTK0uPi"
      },
      "execution_count": 24,
      "outputs": []
    },
    {
      "cell_type": "code",
      "source": [
        "rf.to_csv('map_tran.csv', index=False)"
      ],
      "metadata": {
        "id": "Z1tVNigg1Ixn"
      },
      "execution_count": 25,
      "outputs": []
    },
    {
      "cell_type": "markdown",
      "source": [
        "4)Total number of registered users and number of app opens by these registered users at the state level."
      ],
      "metadata": {
        "id": "H9rMUPyn2UDO"
      }
    },
    {
      "cell_type": "code",
      "source": [
        "path=\"/content/pulse/data/map/user/hover/country/india/state/\"\n",
        "state=os.listdir(path)\n",
        "clm=dict(State=[],Year=[],Quater=[],app_open_count=[], user_count=[],District=[])\n",
        "for i in state:\n",
        "    p=path+i+\"/\"\n",
        "    p_yr=os.listdir(p)\n",
        "    for j in p_yr:\n",
        "        p_t=p+j+'/'\n",
        "        pa=os.listdir(p_t)\n",
        "        for k in pa:\n",
        "            yt=p_t+k\n",
        "            data=open(yt,'r')\n",
        "            X=json.load(data)\n",
        "            try:\n",
        "              for m,z in X['data']['hoverData'].items():\n",
        "                  reg_user_count = z['registeredUsers']\n",
        "                  app_open_count = z['appOpens']\n",
        "                  clm['District'].append(m)\n",
        "                  clm['user_count'].append(reg_user_count)\n",
        "                  clm['app_open_count'].append(app_open_count)\n",
        "                  clm['State'].append(i)\n",
        "                  clm['Year'].append(j)\n",
        "                  clm['Quater'].append(int(k.strip('.json')))\n",
        "            except Exception:\n",
        "              pass\n",
        "rm=pd.DataFrame(clm)\n",
        "rm.isnull().sum()#no null values\n",
        "rm.shape\n",
        "rm=rm.drop_duplicates()#no duplicates\n",
        "rm.shape\n",
        "rm.dtypes\n",
        "rm['Year']=rm['Year'].astype(int)\n"
      ],
      "metadata": {
        "id": "YCATM6f71Kkv"
      },
      "execution_count": 26,
      "outputs": []
    },
    {
      "cell_type": "code",
      "source": [
        "rm.to_csv('map_user.csv', index=False)"
      ],
      "metadata": {
        "id": "kiR8Ok6f1-I4"
      },
      "execution_count": 29,
      "outputs": []
    },
    {
      "cell_type": "markdown",
      "source": [
        "Top 10 states / districts / pin codes where the most number of the transactions happened for a selected year-quarter combination."
      ],
      "metadata": {
        "id": "7o0hZ0xi2dvV"
      }
    },
    {
      "cell_type": "code",
      "source": [
        "path=\"/content/pulse/data/top/transaction/country/india/state/\"\n",
        "state=os.listdir(path)\n",
        "clm=dict(State=[],Year=[],Quater=[],Transaction_amount=[], Transaction_count=[], Top_Dist_Name=[])\n",
        "for i in state:\n",
        "    p=path+i+\"/\"\n",
        "    p_yr=os.listdir(p)\n",
        "    for j in p_yr:\n",
        "        p_t=p+j+'/'\n",
        "        pa=os.listdir(p_t)\n",
        "        for k in pa:\n",
        "            yt=p_t+k\n",
        "            data=open(yt,'r')\n",
        "            X=json.load(data)\n",
        "            for z in X['data']['districts']:\n",
        "                  name=z['entityName']\n",
        "                  count=z['metric']['count']\n",
        "                  amount=z['metric']['amount']\n",
        "                  clm['Top_Dist_Name'].append(name)\n",
        "                  clm['Transaction_count'].append(count)\n",
        "                  clm['Transaction_amount'].append(amount)\n",
        "                  clm['State'].append(i)\n",
        "                  clm['Year'].append(j)\n",
        "                  clm['Quater'].append(int(k.strip('.json')))\n",
        "rs=pd.DataFrame(clm)\n",
        "rs.isnull().sum()#no null values\n",
        "rs.shape\n",
        "rs=rs.drop_duplicates()#no duplicates\n",
        "rs.shape\n",
        "rs.dtypes\n",
        "rs['Year']=rs['Year'].astype(int)"
      ],
      "metadata": {
        "id": "igLBZWbY1_k4"
      },
      "execution_count": 30,
      "outputs": []
    },
    {
      "cell_type": "code",
      "source": [
        "rs.to_csv('top_tran_distname.csv', index=False)"
      ],
      "metadata": {
        "id": "XnUF32bi28X_"
      },
      "execution_count": 32,
      "outputs": []
    },
    {
      "cell_type": "markdown",
      "source": [
        "According to pincode"
      ],
      "metadata": {
        "id": "I5CVxZTx5p2X"
      }
    },
    {
      "cell_type": "code",
      "source": [
        "path=\"/content/pulse/data/top/transaction/country/india/state/\"\n",
        "state=os.listdir(path)\n",
        "clm=dict(State=[],Year=[],Quater=[],Transaction_amount=[], Transaction_count=[], Top_Dist_Pincode=[])\n",
        "for i in state:\n",
        "    p=path+i+\"/\"\n",
        "    p_yr=os.listdir(p)\n",
        "    for j in p_yr:\n",
        "        p_t=p+j+'/'\n",
        "        pa=os.listdir(p_t)\n",
        "        for k in pa:\n",
        "            yt=p_t+k\n",
        "            data=open(yt,'r')\n",
        "            X=json.load(data)\n",
        "            for z in X['data']['pincodes']:\n",
        "                  name=z['entityName']\n",
        "                  count=z['metric']['count']\n",
        "                  amount=z['metric']['amount']\n",
        "                  clm['Top_Dist_Pincode'].append(name)\n",
        "                  clm['Transaction_count'].append(count)\n",
        "                  clm['Transaction_amount'].append(amount)\n",
        "                  clm['State'].append(i)\n",
        "                  clm['Year'].append(j)\n",
        "                  clm['Quater'].append(int(k.strip('.json')))\n",
        "fg=pd.DataFrame(clm)\n",
        "fg.isnull().sum()#no null values\n",
        "fg.shape\n",
        "fg=fg.drop_duplicates()#no duplicates\n",
        "fg.shape\n",
        "fg.dtypes\n",
        "fg['Year']=fg['Year'].astype(int)"
      ],
      "metadata": {
        "id": "1Ab2pCnN2-dN"
      },
      "execution_count": 34,
      "outputs": []
    },
    {
      "cell_type": "code",
      "source": [
        "fg.to_csv('top_tran_pincode.csv', index=False)"
      ],
      "metadata": {
        "id": "7CAZ7T8O393b"
      },
      "execution_count": 35,
      "outputs": []
    },
    {
      "cell_type": "markdown",
      "source": [
        "Top 10 states / districts / pin codes where most number of users registered from, for a selected year-quarter combination."
      ],
      "metadata": {
        "id": "xqhxWCUa4X3t"
      }
    },
    {
      "cell_type": "code",
      "source": [
        "path=\"/content/pulse/data/top/user/country/india/state/\"\n",
        "state=os.listdir(path)\n",
        "clm=dict(State=[],Year=[],Quater=[],Top_Dist_users=[], Top_Dist_Name=[])\n",
        "for i in state:\n",
        "    p=path+i+\"/\"\n",
        "    p_yr=os.listdir(p)\n",
        "    for j in p_yr:\n",
        "        p_t=p+j+'/'\n",
        "        pa=os.listdir(p_t)\n",
        "        for k in pa:\n",
        "            yt=p_t+k\n",
        "            data=open(yt,'r')\n",
        "            X=json.load(data)\n",
        "            for z in X['data']['districts']:\n",
        "                  name=z['name']\n",
        "                  users=z['registeredUsers']\n",
        "                  clm['Top_Dist_users'].append(users)\n",
        "                  clm['Top_Dist_Name'].append(name)\n",
        "                  clm['State'].append(i)\n",
        "                  clm['Year'].append(j)\n",
        "                  clm['Quater'].append(int(k.strip('.json')))\n",
        "mg=pd.DataFrame(clm)\n",
        "mg.isnull().sum()#no null values\n",
        "mg.shape\n",
        "mg=mg.drop_duplicates()#no duplicates\n",
        "mg.shape\n",
        "mg.dtypes\n",
        "mg['Year']=mg['Year'].astype(int)"
      ],
      "metadata": {
        "id": "DRhdV5Y14ZVI"
      },
      "execution_count": 37,
      "outputs": []
    },
    {
      "cell_type": "code",
      "source": [
        "mg.to_csv('top_user_distname.csv', index=False)"
      ],
      "metadata": {
        "id": "uIhO9S7r4wlm"
      },
      "execution_count": 39,
      "outputs": []
    },
    {
      "cell_type": "markdown",
      "source": [
        "According to pincode"
      ],
      "metadata": {
        "id": "DQQ4pKpc5iUX"
      }
    },
    {
      "cell_type": "code",
      "source": [
        "path=\"/content/pulse/data/top/user/country/india/state/\"\n",
        "state=os.listdir(path)\n",
        "clm=dict(State=[],Year=[],Quater=[],Top_Dist_users=[], Top_Dist_Pincode=[])\n",
        "for i in state:\n",
        "    p=path+i+\"/\"\n",
        "    p_yr=os.listdir(p)\n",
        "    for j in p_yr:\n",
        "        p_t=p+j+'/'\n",
        "        pa=os.listdir(p_t)\n",
        "        for k in pa:\n",
        "            yt=p_t+k\n",
        "            data=open(yt,'r')\n",
        "            X=json.load(data)\n",
        "            for z in X['data']['pincodes']:\n",
        "                  name=z['name']\n",
        "                  users=z['registeredUsers']\n",
        "                  clm['Top_Dist_users'].append(users)\n",
        "                  clm['Top_Dist_Pincode'].append(name)\n",
        "                  clm['State'].append(i)\n",
        "                  clm['Year'].append(j)\n",
        "                  clm['Quater'].append(int(k.strip('.json')))\n",
        "tg=pd.DataFrame(clm)\n",
        "tg.isnull().sum()#no null values\n",
        "tg.shape\n",
        "tg=tg.drop_duplicates()#no duplicates\n",
        "tg.shape\n",
        "tg.dtypes\n",
        "tg['Year']=tg['Year'].astype(int)"
      ],
      "metadata": {
        "id": "8CFTKVNK42ce"
      },
      "execution_count": 40,
      "outputs": []
    },
    {
      "cell_type": "code",
      "source": [
        "tg.to_csv('top_user_pincode.csv', index=False)"
      ],
      "metadata": {
        "id": "Zt-nYj7B5S1c"
      },
      "execution_count": 42,
      "outputs": []
    },
    {
      "cell_type": "code",
      "source": [],
      "metadata": {
        "id": "NosRVnXR5VFD"
      },
      "execution_count": null,
      "outputs": []
    }
  ]
}